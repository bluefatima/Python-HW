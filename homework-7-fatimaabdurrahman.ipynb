{
 "cells": [
  {
   "cell_type": "markdown",
   "metadata": {},
   "source": [
    "Hw7 - Fatima Abdurrahman\n",
    "\n",
    "Note - I only got through points 1-3 on the homework pdf."
   ]
  },
  {
   "cell_type": "code",
   "execution_count": 1,
   "metadata": {
    "collapsed": false
   },
   "outputs": [],
   "source": [
    "from PIL import Image\n",
    "import numpy as np\n",
    "from skimage import feature, data\n",
    "from skimage.feature import blob_dog, blob_log, blob_doh\n",
    "import matplotlib.pyplot as plt\n",
    "%matplotlib inline\n",
    "from os import listdir\n",
    "from os.path import isfile, join\n",
    "from sklearn.ensemble import RandomForestClassifier\n",
    "import sys"
   ]
  },
  {
   "cell_type": "code",
   "execution_count": 26,
   "metadata": {
    "collapsed": false
   },
   "outputs": [],
   "source": [
    "def features(image):\n",
    "    \n",
    "    ## Returns 15 real numbered features for an input image\n",
    "\n",
    "    I = np.asarray(Image.open(image))\n",
    "\n",
    "    ## Feature 1: image size\n",
    "\n",
    "    size = np.size(I) #1 - Array size\n",
    "\n",
    "    ## Features 2-9: averages, maxes, and ratios of colors in different channels\n",
    "\n",
    "    aveR = np.average(I[:,:,0]) #2 - Average of red channel\n",
    "    aveG = np.average(I[:,:,1]) #3 - Average of green channel\n",
    "    aveB = np.average(I[:,:,2]) #4 - Average of blue channel\n",
    "    maxR = np.max(I[:,:,0]) #5 - Max of red channel\n",
    "    maxG = np.max(I[:,:,1]) #6 - Max of green channel\n",
    "    maxB = np.max(I[:,:,2]) #7 - Max of blue channel\n",
    "    R_G = aveR/aveG #8 - Ratio of mean red to mean green\n",
    "    R_B = aveR/aveB #9 - Ratio of mean red to mean blue\n",
    "\n",
    "    ## Features 10-12: Edges - Max row and column of outline image, fit horizontal line\n",
    "\n",
    "    chan_ave = np.average(I, axis=2)\n",
    "    edges1 = feature.canny(chan_ave, sigma=3)\n",
    "    vert_max = np.argmax(np.sum(edges1, axis=0)) #10 Max column of outline image\n",
    "    horz_max = np.argmax(np.sum(edges1, axis=1)) #11 Max row of outline image\n",
    "\n",
    "    edges1 = edges1.astype(int)\n",
    "    x = []\n",
    "    y = []\n",
    "    count = 0\n",
    "    for i in range(np.shape(edges1)[0]):\n",
    "        for j in range(np.shape(edges1)[1]):\n",
    "            if edges1[i][j] == 1:\n",
    "                y.append(i)\n",
    "                x.append(j)\n",
    "                count += 1\n",
    "    x.reverse()\n",
    "    fity = np.polyfit(x, y, 0)[0] #12 Y of best fit horizontal line\n",
    "\n",
    "    ## Featres 13 - 15: Blob detection - number, size, 1 position\n",
    "\n",
    "    blobs_doh = blob_doh(chan_ave, max_sigma=30, threshold=0.01)\n",
    "    num_blobs = np.shape(blobs_doh)[0] #13 Number of blobs (hessian)\n",
    "    blob_size = np.average(blobs_doh, axis=0)[2] #14 Average blob radius\n",
    "    blob1dist = ((blobs_doh[0][0]-(np.shape(chan_ave)[1]/2))**2 + \\\n",
    "                 (blobs_doh[0][1]-(np.shape(chan_ave)[0]/2))**2)**0.5 #15 Distance from blob 1 to center\n",
    "\n",
    "    features = [size, aveR, aveG, aveB, maxR, maxG, maxB, R_G, R_B, vert_max, horz_max, \\\n",
    "               fity, num_blobs, blob_size, blob1dist]\n",
    "    \n",
    "    return features"
   ]
  },
  {
   "cell_type": "code",
   "execution_count": null,
   "metadata": {
    "collapsed": false
   },
   "outputs": [],
   "source": []
  },
  {
   "cell_type": "code",
   "execution_count": 27,
   "metadata": {
    "collapsed": false
   },
   "outputs": [],
   "source": [
    "#makes array of all images, runs the features function on them all (x), and \n",
    "#makes an array of each x elements category name (y)\n",
    "\n",
    "categories = listdir(\"50_categories\")[1::]\n",
    "dat = []\n",
    "y = []\n",
    "for i in range(len(categories)): \n",
    "    first5  = listdir(\"50_categories/\"+categories[i])\n",
    "    name = first5[0].split(\"_\")[0]\n",
    "    for file in first5:\n",
    "        path = \"50_categories/\"+name+\"/\"+first5[i]\n",
    "        dat.append(path)\n",
    "        y.append(name)\n",
    "[dat, y]\n",
    "\n",
    "x = []\n",
    "dat\n",
    "for i in range(len(dat)):\n",
    "    data = features(dat[i])\n",
    "    x.append(data)\n"
   ]
  },
  {
   "cell_type": "code",
   "execution_count": null,
   "metadata": {
    "collapsed": false
   },
   "outputs": [],
   "source": []
  },
  {
   "cell_type": "code",
   "execution_count": null,
   "metadata": {
    "collapsed": false
   },
   "outputs": [],
   "source": [
    "#Organize data into training (90%) and testing (10%)\n",
    "\n",
    "split = int(len(y)*0.9)\n",
    "Xtr = x[:split]\n",
    "Ytr = y[:split]\n",
    "Xte = x[split:]\n",
    "Yte = y[split:]\n",
    "\n",
    "classifier = RandomForestClassifier(n_estimators=30)\n",
    "classifier.fit(Xtr, Ytr)\n",
    "pred_rf = classifier.predict(Xte) \n",
    "\n",
    "print(\"True Class / Predicted class\")\n",
    "print(np.vstack((Yte[0:10],pred_rf[0:10])))"
   ]
  },
  {
   "cell_type": "code",
   "execution_count": null,
   "metadata": {
    "collapsed": true
   },
   "outputs": [],
   "source": []
  }
 ],
 "metadata": {
  "anaconda-cloud": {},
  "kernelspec": {
   "display_name": "Python [Root]",
   "language": "python",
   "name": "Python [Root]"
  },
  "language_info": {
   "codemirror_mode": {
    "name": "ipython",
    "version": 3
   },
   "file_extension": ".py",
   "mimetype": "text/x-python",
   "name": "python",
   "nbconvert_exporter": "python",
   "pygments_lexer": "ipython3",
   "version": "3.5.2"
  }
 },
 "nbformat": 4,
 "nbformat_minor": 0
}
